{
  "nbformat": 4,
  "nbformat_minor": 0,
  "metadata": {
    "kernelspec": {
      "display_name": "Python 3",
      "language": "python",
      "name": "python3"
    },
    "language_info": {
      "codemirror_mode": {
        "name": "ipython",
        "version": 3
      },
      "file_extension": ".py",
      "mimetype": "text/x-python",
      "name": "python",
      "nbconvert_exporter": "python",
      "pygments_lexer": "ipython3",
      "version": "3.5.7"
    },
    "colab": {
      "name": "DQN_project.ipynb",
      "provenance": [],
      "collapsed_sections": []
    }
  },
  "cells": [
    {
      "cell_type": "markdown",
      "metadata": {
        "id": "Pi-tpRGfQBoR",
        "colab_type": "text"
      },
      "source": [
        "**You may need to install [OpenCV](https://pypi.python.org/pypi/opencv-python) and [scikit-video](http://www.scikit-video.org/stable/).**"
      ]
    },
    {
      "cell_type": "code",
      "metadata": {
        "id": "VcJ8jcTpQyuK",
        "colab_type": "code",
        "outputId": "2062aa67-4405-4457-970f-3c266c05db6f",
        "colab": {
          "base_uri": "https://localhost:8080/",
          "height": 158
        }
      },
      "source": [
        "!pip install scikit-video"
      ],
      "execution_count": 1,
      "outputs": [
        {
          "output_type": "stream",
          "text": [
            "Collecting scikit-video\n",
            "\u001b[?25l  Downloading https://files.pythonhosted.org/packages/b1/a6/c69cad508139a342810ae46e946ebb3256aa6e42f690d901bb68f50582e3/scikit_video-1.1.11-py2.py3-none-any.whl (2.3MB)\n",
            "\r\u001b[K     |▏                               | 10kB 18.4MB/s eta 0:00:01\r\u001b[K     |▎                               | 20kB 3.2MB/s eta 0:00:01\r\u001b[K     |▍                               | 30kB 3.7MB/s eta 0:00:01\r\u001b[K     |▋                               | 40kB 3.0MB/s eta 0:00:01\r\u001b[K     |▊                               | 51kB 3.3MB/s eta 0:00:01\r\u001b[K     |▉                               | 61kB 3.9MB/s eta 0:00:01\r\u001b[K     |█                               | 71kB 4.2MB/s eta 0:00:01\r\u001b[K     |█▏                              | 81kB 4.3MB/s eta 0:00:01\r\u001b[K     |█▎                              | 92kB 4.8MB/s eta 0:00:01\r\u001b[K     |█▌                              | 102kB 4.6MB/s eta 0:00:01\r\u001b[K     |█▋                              | 112kB 4.6MB/s eta 0:00:01\r\u001b[K     |█▊                              | 122kB 4.6MB/s eta 0:00:01\r\u001b[K     |██                              | 133kB 4.6MB/s eta 0:00:01\r\u001b[K     |██                              | 143kB 4.6MB/s eta 0:00:01\r\u001b[K     |██▏                             | 153kB 4.6MB/s eta 0:00:01\r\u001b[K     |██▎                             | 163kB 4.6MB/s eta 0:00:01\r\u001b[K     |██▌                             | 174kB 4.6MB/s eta 0:00:01\r\u001b[K     |██▋                             | 184kB 4.6MB/s eta 0:00:01\r\u001b[K     |██▊                             | 194kB 4.6MB/s eta 0:00:01\r\u001b[K     |███                             | 204kB 4.6MB/s eta 0:00:01\r\u001b[K     |███                             | 215kB 4.6MB/s eta 0:00:01\r\u001b[K     |███▏                            | 225kB 4.6MB/s eta 0:00:01\r\u001b[K     |███▍                            | 235kB 4.6MB/s eta 0:00:01\r\u001b[K     |███▌                            | 245kB 4.6MB/s eta 0:00:01\r\u001b[K     |███▋                            | 256kB 4.6MB/s eta 0:00:01\r\u001b[K     |███▉                            | 266kB 4.6MB/s eta 0:00:01\r\u001b[K     |████                            | 276kB 4.6MB/s eta 0:00:01\r\u001b[K     |████                            | 286kB 4.6MB/s eta 0:00:01\r\u001b[K     |████▏                           | 296kB 4.6MB/s eta 0:00:01\r\u001b[K     |████▍                           | 307kB 4.6MB/s eta 0:00:01\r\u001b[K     |████▌                           | 317kB 4.6MB/s eta 0:00:01\r\u001b[K     |████▋                           | 327kB 4.6MB/s eta 0:00:01\r\u001b[K     |████▉                           | 337kB 4.6MB/s eta 0:00:01\r\u001b[K     |█████                           | 348kB 4.6MB/s eta 0:00:01\r\u001b[K     |█████                           | 358kB 4.6MB/s eta 0:00:01\r\u001b[K     |█████▎                          | 368kB 4.6MB/s eta 0:00:01\r\u001b[K     |█████▍                          | 378kB 4.6MB/s eta 0:00:01\r\u001b[K     |█████▌                          | 389kB 4.6MB/s eta 0:00:01\r\u001b[K     |█████▊                          | 399kB 4.6MB/s eta 0:00:01\r\u001b[K     |█████▉                          | 409kB 4.6MB/s eta 0:00:01\r\u001b[K     |██████                          | 419kB 4.6MB/s eta 0:00:01\r\u001b[K     |██████                          | 430kB 4.6MB/s eta 0:00:01\r\u001b[K     |██████▎                         | 440kB 4.6MB/s eta 0:00:01\r\u001b[K     |██████▍                         | 450kB 4.6MB/s eta 0:00:01\r\u001b[K     |██████▌                         | 460kB 4.6MB/s eta 0:00:01\r\u001b[K     |██████▊                         | 471kB 4.6MB/s eta 0:00:01\r\u001b[K     |██████▉                         | 481kB 4.6MB/s eta 0:00:01\r\u001b[K     |███████                         | 491kB 4.6MB/s eta 0:00:01\r\u001b[K     |███████▏                        | 501kB 4.6MB/s eta 0:00:01\r\u001b[K     |███████▎                        | 512kB 4.6MB/s eta 0:00:01\r\u001b[K     |███████▍                        | 522kB 4.6MB/s eta 0:00:01\r\u001b[K     |███████▋                        | 532kB 4.6MB/s eta 0:00:01\r\u001b[K     |███████▊                        | 542kB 4.6MB/s eta 0:00:01\r\u001b[K     |███████▉                        | 552kB 4.6MB/s eta 0:00:01\r\u001b[K     |████████                        | 563kB 4.6MB/s eta 0:00:01\r\u001b[K     |████████▏                       | 573kB 4.6MB/s eta 0:00:01\r\u001b[K     |████████▎                       | 583kB 4.6MB/s eta 0:00:01\r\u001b[K     |████████▍                       | 593kB 4.6MB/s eta 0:00:01\r\u001b[K     |████████▋                       | 604kB 4.6MB/s eta 0:00:01\r\u001b[K     |████████▊                       | 614kB 4.6MB/s eta 0:00:01\r\u001b[K     |████████▉                       | 624kB 4.6MB/s eta 0:00:01\r\u001b[K     |█████████                       | 634kB 4.6MB/s eta 0:00:01\r\u001b[K     |█████████▏                      | 645kB 4.6MB/s eta 0:00:01\r\u001b[K     |█████████▎                      | 655kB 4.6MB/s eta 0:00:01\r\u001b[K     |█████████▌                      | 665kB 4.6MB/s eta 0:00:01\r\u001b[K     |█████████▋                      | 675kB 4.6MB/s eta 0:00:01\r\u001b[K     |█████████▊                      | 686kB 4.6MB/s eta 0:00:01\r\u001b[K     |█████████▉                      | 696kB 4.6MB/s eta 0:00:01\r\u001b[K     |██████████                      | 706kB 4.6MB/s eta 0:00:01\r\u001b[K     |██████████▏                     | 716kB 4.6MB/s eta 0:00:01\r\u001b[K     |██████████▎                     | 727kB 4.6MB/s eta 0:00:01\r\u001b[K     |██████████▌                     | 737kB 4.6MB/s eta 0:00:01\r\u001b[K     |██████████▋                     | 747kB 4.6MB/s eta 0:00:01\r\u001b[K     |██████████▊                     | 757kB 4.6MB/s eta 0:00:01\r\u001b[K     |███████████                     | 768kB 4.6MB/s eta 0:00:01\r\u001b[K     |███████████                     | 778kB 4.6MB/s eta 0:00:01\r\u001b[K     |███████████▏                    | 788kB 4.6MB/s eta 0:00:01\r\u001b[K     |███████████▍                    | 798kB 4.6MB/s eta 0:00:01\r\u001b[K     |███████████▌                    | 808kB 4.6MB/s eta 0:00:01\r\u001b[K     |███████████▋                    | 819kB 4.6MB/s eta 0:00:01\r\u001b[K     |███████████▊                    | 829kB 4.6MB/s eta 0:00:01\r\u001b[K     |████████████                    | 839kB 4.6MB/s eta 0:00:01\r\u001b[K     |████████████                    | 849kB 4.6MB/s eta 0:00:01\r\u001b[K     |████████████▏                   | 860kB 4.6MB/s eta 0:00:01\r\u001b[K     |████████████▍                   | 870kB 4.6MB/s eta 0:00:01\r\u001b[K     |████████████▌                   | 880kB 4.6MB/s eta 0:00:01\r\u001b[K     |████████████▋                   | 890kB 4.6MB/s eta 0:00:01\r\u001b[K     |████████████▉                   | 901kB 4.6MB/s eta 0:00:01\r\u001b[K     |█████████████                   | 911kB 4.6MB/s eta 0:00:01\r\u001b[K     |█████████████                   | 921kB 4.6MB/s eta 0:00:01\r\u001b[K     |█████████████▎                  | 931kB 4.6MB/s eta 0:00:01\r\u001b[K     |█████████████▍                  | 942kB 4.6MB/s eta 0:00:01\r\u001b[K     |█████████████▌                  | 952kB 4.6MB/s eta 0:00:01\r\u001b[K     |█████████████▋                  | 962kB 4.6MB/s eta 0:00:01\r\u001b[K     |█████████████▉                  | 972kB 4.6MB/s eta 0:00:01\r\u001b[K     |██████████████                  | 983kB 4.6MB/s eta 0:00:01\r\u001b[K     |██████████████                  | 993kB 4.6MB/s eta 0:00:01\r\u001b[K     |██████████████▎                 | 1.0MB 4.6MB/s eta 0:00:01\r\u001b[K     |██████████████▍                 | 1.0MB 4.6MB/s eta 0:00:01\r\u001b[K     |██████████████▌                 | 1.0MB 4.6MB/s eta 0:00:01\r\u001b[K     |██████████████▊                 | 1.0MB 4.6MB/s eta 0:00:01\r\u001b[K     |██████████████▉                 | 1.0MB 4.6MB/s eta 0:00:01\r\u001b[K     |███████████████                 | 1.1MB 4.6MB/s eta 0:00:01\r\u001b[K     |███████████████▏                | 1.1MB 4.6MB/s eta 0:00:01\r\u001b[K     |███████████████▎                | 1.1MB 4.6MB/s eta 0:00:01\r\u001b[K     |███████████████▍                | 1.1MB 4.6MB/s eta 0:00:01\r\u001b[K     |███████████████▌                | 1.1MB 4.6MB/s eta 0:00:01\r\u001b[K     |███████████████▊                | 1.1MB 4.6MB/s eta 0:00:01\r\u001b[K     |███████████████▉                | 1.1MB 4.6MB/s eta 0:00:01\r\u001b[K     |████████████████                | 1.1MB 4.6MB/s eta 0:00:01\r\u001b[K     |████████████████▏               | 1.1MB 4.6MB/s eta 0:00:01\r\u001b[K     |████████████████▎               | 1.1MB 4.6MB/s eta 0:00:01\r\u001b[K     |████████████████▍               | 1.2MB 4.6MB/s eta 0:00:01\r\u001b[K     |████████████████▋               | 1.2MB 4.6MB/s eta 0:00:01\r\u001b[K     |████████████████▊               | 1.2MB 4.6MB/s eta 0:00:01\r\u001b[K     |████████████████▉               | 1.2MB 4.6MB/s eta 0:00:01\r\u001b[K     |█████████████████               | 1.2MB 4.6MB/s eta 0:00:01\r\u001b[K     |█████████████████▏              | 1.2MB 4.6MB/s eta 0:00:01\r\u001b[K     |█████████████████▎              | 1.2MB 4.6MB/s eta 0:00:01\r\u001b[K     |█████████████████▍              | 1.2MB 4.6MB/s eta 0:00:01\r\u001b[K     |█████████████████▋              | 1.2MB 4.6MB/s eta 0:00:01\r\u001b[K     |█████████████████▊              | 1.2MB 4.6MB/s eta 0:00:01\r\u001b[K     |█████████████████▉              | 1.3MB 4.6MB/s eta 0:00:01\r\u001b[K     |██████████████████              | 1.3MB 4.6MB/s eta 0:00:01\r\u001b[K     |██████████████████▏             | 1.3MB 4.6MB/s eta 0:00:01\r\u001b[K     |██████████████████▎             | 1.3MB 4.6MB/s eta 0:00:01\r\u001b[K     |██████████████████▌             | 1.3MB 4.6MB/s eta 0:00:01\r\u001b[K     |██████████████████▋             | 1.3MB 4.6MB/s eta 0:00:01\r\u001b[K     |██████████████████▊             | 1.3MB 4.6MB/s eta 0:00:01\r\u001b[K     |███████████████████             | 1.3MB 4.6MB/s eta 0:00:01\r\u001b[K     |███████████████████             | 1.3MB 4.6MB/s eta 0:00:01\r\u001b[K     |███████████████████▏            | 1.4MB 4.6MB/s eta 0:00:01\r\u001b[K     |███████████████████▎            | 1.4MB 4.6MB/s eta 0:00:01\r\u001b[K     |███████████████████▌            | 1.4MB 4.6MB/s eta 0:00:01\r\u001b[K     |███████████████████▋            | 1.4MB 4.6MB/s eta 0:00:01\r\u001b[K     |███████████████████▊            | 1.4MB 4.6MB/s eta 0:00:01\r\u001b[K     |████████████████████            | 1.4MB 4.6MB/s eta 0:00:01\r\u001b[K     |████████████████████            | 1.4MB 4.6MB/s eta 0:00:01\r\u001b[K     |████████████████████▏           | 1.4MB 4.6MB/s eta 0:00:01\r\u001b[K     |████████████████████▍           | 1.4MB 4.6MB/s eta 0:00:01\r\u001b[K     |████████████████████▌           | 1.4MB 4.6MB/s eta 0:00:01\r\u001b[K     |████████████████████▋           | 1.5MB 4.6MB/s eta 0:00:01\r\u001b[K     |████████████████████▉           | 1.5MB 4.6MB/s eta 0:00:01\r\u001b[K     |█████████████████████           | 1.5MB 4.6MB/s eta 0:00:01\r\u001b[K     |█████████████████████           | 1.5MB 4.6MB/s eta 0:00:01\r\u001b[K     |█████████████████████▏          | 1.5MB 4.6MB/s eta 0:00:01\r\u001b[K     |█████████████████████▍          | 1.5MB 4.6MB/s eta 0:00:01\r\u001b[K     |█████████████████████▌          | 1.5MB 4.6MB/s eta 0:00:01\r\u001b[K     |█████████████████████▋          | 1.5MB 4.6MB/s eta 0:00:01\r\u001b[K     |█████████████████████▉          | 1.5MB 4.6MB/s eta 0:00:01\r\u001b[K     |██████████████████████          | 1.5MB 4.6MB/s eta 0:00:01\r\u001b[K     |██████████████████████          | 1.6MB 4.6MB/s eta 0:00:01\r\u001b[K     |██████████████████████▎         | 1.6MB 4.6MB/s eta 0:00:01\r\u001b[K     |██████████████████████▍         | 1.6MB 4.6MB/s eta 0:00:01\r\u001b[K     |██████████████████████▌         | 1.6MB 4.6MB/s eta 0:00:01\r\u001b[K     |██████████████████████▊         | 1.6MB 4.6MB/s eta 0:00:01\r\u001b[K     |██████████████████████▉         | 1.6MB 4.6MB/s eta 0:00:01\r\u001b[K     |███████████████████████         | 1.6MB 4.6MB/s eta 0:00:01\r\u001b[K     |███████████████████████         | 1.6MB 4.6MB/s eta 0:00:01\r\u001b[K     |███████████████████████▎        | 1.6MB 4.6MB/s eta 0:00:01\r\u001b[K     |███████████████████████▍        | 1.6MB 4.6MB/s eta 0:00:01\r\u001b[K     |███████████████████████▌        | 1.7MB 4.6MB/s eta 0:00:01\r\u001b[K     |███████████████████████▊        | 1.7MB 4.6MB/s eta 0:00:01\r\u001b[K     |███████████████████████▉        | 1.7MB 4.6MB/s eta 0:00:01\r\u001b[K     |████████████████████████        | 1.7MB 4.6MB/s eta 0:00:01\r\u001b[K     |████████████████████████▏       | 1.7MB 4.6MB/s eta 0:00:01\r\u001b[K     |████████████████████████▎       | 1.7MB 4.6MB/s eta 0:00:01\r\u001b[K     |████████████████████████▍       | 1.7MB 4.6MB/s eta 0:00:01\r\u001b[K     |████████████████████████▋       | 1.7MB 4.6MB/s eta 0:00:01\r\u001b[K     |████████████████████████▊       | 1.7MB 4.6MB/s eta 0:00:01\r\u001b[K     |████████████████████████▉       | 1.8MB 4.6MB/s eta 0:00:01\r\u001b[K     |█████████████████████████       | 1.8MB 4.6MB/s eta 0:00:01\r\u001b[K     |█████████████████████████▏      | 1.8MB 4.6MB/s eta 0:00:01\r\u001b[K     |█████████████████████████▎      | 1.8MB 4.6MB/s eta 0:00:01\r\u001b[K     |█████████████████████████▍      | 1.8MB 4.6MB/s eta 0:00:01\r\u001b[K     |█████████████████████████▋      | 1.8MB 4.6MB/s eta 0:00:01\r\u001b[K     |█████████████████████████▊      | 1.8MB 4.6MB/s eta 0:00:01\r\u001b[K     |█████████████████████████▉      | 1.8MB 4.6MB/s eta 0:00:01\r\u001b[K     |██████████████████████████      | 1.8MB 4.6MB/s eta 0:00:01\r\u001b[K     |██████████████████████████▏     | 1.8MB 4.6MB/s eta 0:00:01\r\u001b[K     |██████████████████████████▎     | 1.9MB 4.6MB/s eta 0:00:01\r\u001b[K     |██████████████████████████▌     | 1.9MB 4.6MB/s eta 0:00:01\r\u001b[K     |██████████████████████████▋     | 1.9MB 4.6MB/s eta 0:00:01\r\u001b[K     |██████████████████████████▊     | 1.9MB 4.6MB/s eta 0:00:01\r\u001b[K     |██████████████████████████▉     | 1.9MB 4.6MB/s eta 0:00:01\r\u001b[K     |███████████████████████████     | 1.9MB 4.6MB/s eta 0:00:01\r\u001b[K     |███████████████████████████▏    | 1.9MB 4.6MB/s eta 0:00:01\r\u001b[K     |███████████████████████████▎    | 1.9MB 4.6MB/s eta 0:00:01\r\u001b[K     |███████████████████████████▌    | 1.9MB 4.6MB/s eta 0:00:01\r\u001b[K     |███████████████████████████▋    | 1.9MB 4.6MB/s eta 0:00:01\r\u001b[K     |███████████████████████████▊    | 2.0MB 4.6MB/s eta 0:00:01\r\u001b[K     |████████████████████████████    | 2.0MB 4.6MB/s eta 0:00:01\r\u001b[K     |████████████████████████████    | 2.0MB 4.6MB/s eta 0:00:01\r\u001b[K     |████████████████████████████▏   | 2.0MB 4.6MB/s eta 0:00:01\r\u001b[K     |████████████████████████████▍   | 2.0MB 4.6MB/s eta 0:00:01\r\u001b[K     |████████████████████████████▌   | 2.0MB 4.6MB/s eta 0:00:01\r\u001b[K     |████████████████████████████▋   | 2.0MB 4.6MB/s eta 0:00:01\r\u001b[K     |████████████████████████████▊   | 2.0MB 4.6MB/s eta 0:00:01\r\u001b[K     |█████████████████████████████   | 2.0MB 4.6MB/s eta 0:00:01\r\u001b[K     |█████████████████████████████   | 2.0MB 4.6MB/s eta 0:00:01\r\u001b[K     |█████████████████████████████▏  | 2.1MB 4.6MB/s eta 0:00:01\r\u001b[K     |█████████████████████████████▍  | 2.1MB 4.6MB/s eta 0:00:01\r\u001b[K     |█████████████████████████████▌  | 2.1MB 4.6MB/s eta 0:00:01\r\u001b[K     |█████████████████████████████▋  | 2.1MB 4.6MB/s eta 0:00:01\r\u001b[K     |█████████████████████████████▉  | 2.1MB 4.6MB/s eta 0:00:01\r\u001b[K     |██████████████████████████████  | 2.1MB 4.6MB/s eta 0:00:01\r\u001b[K     |██████████████████████████████  | 2.1MB 4.6MB/s eta 0:00:01\r\u001b[K     |██████████████████████████████▎ | 2.1MB 4.6MB/s eta 0:00:01\r\u001b[K     |██████████████████████████████▍ | 2.1MB 4.6MB/s eta 0:00:01\r\u001b[K     |██████████████████████████████▌ | 2.2MB 4.6MB/s eta 0:00:01\r\u001b[K     |██████████████████████████████▋ | 2.2MB 4.6MB/s eta 0:00:01\r\u001b[K     |██████████████████████████████▉ | 2.2MB 4.6MB/s eta 0:00:01\r\u001b[K     |███████████████████████████████ | 2.2MB 4.6MB/s eta 0:00:01\r\u001b[K     |███████████████████████████████ | 2.2MB 4.6MB/s eta 0:00:01\r\u001b[K     |███████████████████████████████▎| 2.2MB 4.6MB/s eta 0:00:01\r\u001b[K     |███████████████████████████████▍| 2.2MB 4.6MB/s eta 0:00:01\r\u001b[K     |███████████████████████████████▌| 2.2MB 4.6MB/s eta 0:00:01\r\u001b[K     |███████████████████████████████▊| 2.2MB 4.6MB/s eta 0:00:01\r\u001b[K     |███████████████████████████████▉| 2.2MB 4.6MB/s eta 0:00:01\r\u001b[K     |████████████████████████████████| 2.3MB 4.6MB/s eta 0:00:01\r\u001b[K     |████████████████████████████████| 2.3MB 4.6MB/s \n",
            "\u001b[?25hRequirement already satisfied: scipy in /usr/local/lib/python3.6/dist-packages (from scikit-video) (1.4.1)\n",
            "Requirement already satisfied: numpy in /usr/local/lib/python3.6/dist-packages (from scikit-video) (1.17.5)\n",
            "Requirement already satisfied: pillow in /usr/local/lib/python3.6/dist-packages (from scikit-video) (6.2.2)\n",
            "Installing collected packages: scikit-video\n",
            "Successfully installed scikit-video-1.1.11\n"
          ],
          "name": "stdout"
        }
      ]
    },
    {
      "cell_type": "code",
      "metadata": {
        "id": "Wzp26K4iRLEN",
        "colab_type": "code",
        "outputId": "d583b7d7-8f3f-4a8f-b4b3-3965f1d7c714",
        "colab": {
          "base_uri": "https://localhost:8080/",
          "height": 52
        }
      },
      "source": [
        "!pip install opencv-python"
      ],
      "execution_count": 2,
      "outputs": [
        {
          "output_type": "stream",
          "text": [
            "Requirement already satisfied: opencv-python in /usr/local/lib/python3.6/dist-packages (4.1.2.30)\n",
            "Requirement already satisfied: numpy>=1.11.3 in /usr/local/lib/python3.6/dist-packages (from opencv-python) (1.17.5)\n"
          ],
          "name": "stdout"
        }
      ]
    },
    {
      "cell_type": "code",
      "metadata": {
        "id": "avHfHHUGQBol",
        "colab_type": "code",
        "colab": {}
      },
      "source": [
        "import keras\n",
        "import numpy as np\n",
        "import io\n",
        "import base64\n",
        "from IPython.display import HTML\n",
        "import skvideo.io\n",
        "import cv2\n",
        "import json\n",
        "import random\n",
        "import copy\n",
        "\n",
        "from keras.models import Sequential,model_from_json\n",
        "from keras.layers.core import Dense\n",
        "from keras.optimizers import sgd\n",
        "from keras.layers import Conv2D, Conv1D, MaxPooling2D, Activation, AveragePooling2D,Reshape,BatchNormalization"
      ],
      "execution_count": 0,
      "outputs": []
    },
    {
      "cell_type": "markdown",
      "metadata": {
        "id": "Ly8D9whLQBpl",
        "colab_type": "text"
      },
      "source": [
        "# MiniProject on Deep Reinforcement Learning"
      ]
    },
    {
      "cell_type": "markdown",
      "metadata": {
        "id": "8cqG-Qr8QBpw",
        "colab_type": "text"
      },
      "source": [
        "__Notations__: $E_p$ is the expectation under probability $p$. Please justify each of your answer and widely comment your code."
      ]
    },
    {
      "cell_type": "markdown",
      "metadata": {
        "id": "8DRxjIVoQBp5",
        "colab_type": "text"
      },
      "source": [
        "# Context"
      ]
    },
    {
      "cell_type": "markdown",
      "metadata": {
        "id": "_anhgjtKQBqI",
        "colab_type": "text"
      },
      "source": [
        "In a reinforcement learning algorithm, we modelize each step $t$ as an action $a_t$ obtained from a state $s_t$, i.e. $\\{(a_{t},s_{t})_{t\\leq T}\\}$ having the Markov property. We consider a discount factor $\\gamma \\in [0,1]$ that ensures convergence. The goal is to find among all the policies $\\pi$, one that maximizes the expected reward:\n",
        "\n",
        "\\begin{equation*}\n",
        "R(\\pi)=\\sum_{t\\leq T}E_{p^{\\pi}}[\\gamma^t r(s_{t},a_{t})] \\> ,\n",
        "\\end{equation*}\n",
        "\n",
        "where: \n",
        "\\begin{equation*}p^{\\pi}(a_{0},a_{1},s_{1},...,a_{T},s_{T})=p(a_{0})\\prod_{t=1}^{T}\\pi(a_{t}|s_{t})p(s_{t+1}|s_{t},a_{t}) \\> .\n",
        "\\end{equation*}\n",
        "\n",
        "We note the $Q$-function:\n",
        "\n",
        "\\begin{equation*}Q^\\pi(s,a)=E_{p^{\\pi}}[\\sum_{t\\leq T}\\gamma^{t}r(s_{t},a_{t})|s_{0}=s,a_{0}=a] \\> .\n",
        "\\end{equation*}\n",
        "\n",
        "Thus, the optimal Q function is:\n",
        "\\begin{equation*}\n",
        "Q^*(s,a)=\\max_{\\pi}Q^\\pi(s,a) \\> .\n",
        "\\end{equation*}\n",
        "\n",
        "In this project, we will apply the deep reinforcement learning techniques to a simple game: an agent will have to learn from scratch a policy that will permit it maximizing a reward."
      ]
    },
    {
      "cell_type": "markdown",
      "metadata": {
        "id": "Hsn_byKOQBqO",
        "colab_type": "text"
      },
      "source": [
        "## The environment, the agent and the game"
      ]
    },
    {
      "cell_type": "markdown",
      "metadata": {
        "id": "rN6HV5s9QBqa",
        "colab_type": "text"
      },
      "source": [
        "### The environment"
      ]
    },
    {
      "cell_type": "markdown",
      "metadata": {
        "id": "DHxXBxJzQBqv",
        "colab_type": "text"
      },
      "source": [
        "```Environment``` is an abstract class that represents the states, rewards, and actions to obtain the new state."
      ]
    },
    {
      "cell_type": "code",
      "metadata": {
        "id": "ddOPGAd5QBq7",
        "colab_type": "code",
        "colab": {}
      },
      "source": [
        "class Environment(object):\n",
        "    def __init__(self):\n",
        "        pass\n",
        "\n",
        "    def act(self, act):\n",
        "        \"\"\"\n",
        "        One can act on the environment and obtain its reaction:\n",
        "        - the new state\n",
        "        - the reward of the new state\n",
        "        - should we continue the game?\n",
        "\n",
        "        :return: state, reward, game_over\n",
        "        \"\"\"\n",
        "        pass\n",
        "\n",
        "\n",
        "    def reset(self):\n",
        "        \"\"\"\n",
        "        Reinitialize the environment to a random state and returns\n",
        "        the original state\n",
        "\n",
        "        :return: state\n",
        "        \"\"\"\n",
        "        pass\n",
        "    \n",
        "    def draw(self):\n",
        "        \"\"\"\n",
        "        Visualize in the console or graphically the current state\n",
        "        \"\"\"\n",
        "        pass"
      ],
      "execution_count": 0,
      "outputs": []
    },
    {
      "cell_type": "markdown",
      "metadata": {
        "id": "kCWLVokpQBra",
        "colab_type": "text"
      },
      "source": [
        "The method ```act``` allows to act on the environment at a given state $s_t$ (stored internally), via action $a_t$. The method will return the new state $s_{t+1}$, the reward $r(s_{t},a_{t})$ and determines if $t\\leq T$ (*game_over*).\n",
        "\n",
        "The method ```reset``` simply reinitializes the environment to a random state $s_0$.\n",
        "\n",
        "The method ```draw``` displays the current state $s_t$ (this is useful to check the behavior of the Agent).\n",
        "\n",
        "We modelize $s_t$ as a tensor, while $a_t$ is an integer."
      ]
    },
    {
      "cell_type": "markdown",
      "metadata": {
        "id": "Dte3S9ABQBrn",
        "colab_type": "text"
      },
      "source": [
        "### The Agent"
      ]
    },
    {
      "cell_type": "markdown",
      "metadata": {
        "id": "OXnDWUUXQBru",
        "colab_type": "text"
      },
      "source": [
        "The goal of the ```Agent``` is to interact with the ```Environment``` by proposing actions $a_t$ obtained from a given state $s_t$ to attempt to maximize its __reward__ $r(s_t,a_t)$. We propose the following abstract class:"
      ]
    },
    {
      "cell_type": "code",
      "metadata": {
        "id": "BgRQ8kimQBr0",
        "colab_type": "code",
        "colab": {}
      },
      "source": [
        "class Agent(object):\n",
        "    def __init__(self, epsilon=0.1, n_action=4):\n",
        "        self.epsilon = epsilon\n",
        "        self.n_action = n_action\n",
        "    \n",
        "    def set_epsilon(self,e):\n",
        "        self.epsilon = e\n",
        "\n",
        "    def reduce_epsilon(self, r):\n",
        "        self.epsilon *= r \n",
        "\n",
        "    def act(self,s,train=True):\n",
        "        \"\"\" This function should return the next action to do:\n",
        "        an integer between 0 and 4 (not included) with a random exploration of epsilon\"\"\"\n",
        "        if train:\n",
        "            if np.random.rand() <= self.epsilon:\n",
        "                a = np.random.randint(0, self.n_action, size=1)[0]\n",
        "            else:\n",
        "                a = self.learned_act(s)\n",
        "        else: # in some cases, this can improve the performance.. remove it if poor performances\n",
        "            a = self.learned_act(s)\n",
        "\n",
        "        return a\n",
        "\n",
        "    def learned_act(self,s):\n",
        "        \"\"\" Act via the policy of the agent, from a given state s\n",
        "        it proposes an action a\"\"\"\n",
        "        pass\n",
        "\n",
        "    def reinforce(self, s, n_s, a, r, game_over_):\n",
        "        \"\"\" This function is the core of the learning algorithm. \n",
        "        It takes as an input the current state s_, the next state n_s_\n",
        "        the action a_ used to move from s_ to n_s_ and the reward r_.\n",
        "        \n",
        "        Its goal is to learn a policy.\n",
        "        \"\"\"\n",
        "        pass\n",
        "\n",
        "    def save(self):\n",
        "        \"\"\" This function returns basic stats if applicable: the\n",
        "        loss and/or the model\"\"\"\n",
        "        pass\n",
        "\n",
        "    def load(self):\n",
        "        \"\"\" This function allows to restore a model\"\"\"\n",
        "        pass"
      ],
      "execution_count": 0,
      "outputs": []
    },
    {
      "cell_type": "markdown",
      "metadata": {
        "id": "yu8Q-nghQBsN",
        "colab_type": "text"
      },
      "source": [
        "***\n",
        "__Question 1__:\n",
        "Explain the function act. Why is ```epsilon``` essential?"
      ]
    },
    {
      "cell_type": "markdown",
      "metadata": {
        "id": "79TG6nE7QBsp",
        "colab_type": "text"
      },
      "source": [
        "```epsilon``` is meant to introduce randomness in the model. If the end result is higher with ```epsilon``` > 0 than ```epsilon``` = 0, the learned act model can be improved. This is called the epsilon-greedy algorithm."
      ]
    },
    {
      "cell_type": "markdown",
      "metadata": {
        "id": "fuyIf-JnQBs1",
        "colab_type": "text"
      },
      "source": [
        "***\n",
        "### The Game"
      ]
    },
    {
      "cell_type": "markdown",
      "metadata": {
        "id": "EEtTgS2mQBtB",
        "colab_type": "text"
      },
      "source": [
        "The ```Agent``` and the ```Environment``` work in an interlaced way as in the following (take some time to understand this code as it is the core of the project)\n",
        "\n",
        "```python\n",
        "\n",
        "epoch = 300\n",
        "env = Environment()\n",
        "agent = Agent()\n",
        "\n",
        "\n",
        "# Number of won games\n",
        "score = 0\n",
        "loss = 0\n",
        "\n",
        "\n",
        "for e in range(epoch):\n",
        "    # At each epoch, we restart to a fresh game and get the initial state\n",
        "    state = env.reset()\n",
        "    # This assumes that the games will end\n",
        "    game_over = False\n",
        "\n",
        "    win = 0\n",
        "    lose = 0\n",
        "    \n",
        "    while not game_over:\n",
        "        # The agent performs an action\n",
        "        action = agent.act(state)\n",
        "\n",
        "        # Apply an action to the environment, get the next state, the reward\n",
        "        # and if the games end\n",
        "        prev_state = state\n",
        "        state, reward, game_over = env.act(action)\n",
        "\n",
        "        # Update the counters\n",
        "        if reward > 0:\n",
        "            win = win + reward\n",
        "        if reward < 0:\n",
        "            lose = lose -reward\n",
        "\n",
        "        # Apply the reinforcement strategy\n",
        "        loss = agent.reinforce(prev_state, state,  action, reward, game_over)\n",
        "\n",
        "    # Save as a mp4\n",
        "    if e % 10 == 0:\n",
        "        env.draw(e)\n",
        "\n",
        "    # Update stats\n",
        "    score += win-lose\n",
        "\n",
        "    print(\"Epoch {:03d}/{:03d} | Loss {:.4f} | Win/lose count {}/{} ({})\"\n",
        "          .format(e, epoch, loss, win, lose, win-lose))\n",
        "    agent.save()\n",
        "```"
      ]
    },
    {
      "cell_type": "markdown",
      "metadata": {
        "id": "TTjrG2f9QBtI",
        "colab_type": "text"
      },
      "source": [
        "# The game, *eat cheese*"
      ]
    },
    {
      "cell_type": "markdown",
      "metadata": {
        "id": "cvQ7YxCDQBtQ",
        "colab_type": "text"
      },
      "source": [
        "A rat runs on an island and tries to eat as much as possible. The island is subdivided into $N\\times N$ cells, in which there are cheese (+0.5) and poisonous cells (-1). The rat has a visibility of 2 cells (thus it can see $5^2$ cells). The rat is given a time $T$ to accumulate as much food as possible. It can perform 4 actions: going up, down, left, right. \n",
        "\n",
        "The goal is to code an agent to solve this task that will learn by trial and error. We propose the following environment:"
      ]
    },
    {
      "cell_type": "code",
      "metadata": {
        "id": "mRNI_K92QBtX",
        "colab_type": "code",
        "colab": {}
      },
      "source": [
        "class Environment(object):\n",
        "    def __init__(self, grid_size=10, max_time=500, temperature=0.1):\n",
        "        grid_size = grid_size+4\n",
        "        self.grid_size = grid_size\n",
        "        self.max_time = max_time\n",
        "        self.temperature = temperature\n",
        "\n",
        "        #board on which one plays\n",
        "        self.board = np.zeros((grid_size,grid_size))\n",
        "        self.position = np.zeros((grid_size,grid_size))\n",
        "\n",
        "        # coordinate of the cat\n",
        "        self.x = 0\n",
        "        self.y = 1\n",
        "\n",
        "        # self time\n",
        "        self.t = 0\n",
        "\n",
        "        self.scale=16\n",
        "\n",
        "        self.to_draw = np.zeros((max_time+2, grid_size*self.scale, grid_size*self.scale, 3))\n",
        "\n",
        "\n",
        "    def draw(self,e):\n",
        "        skvideo.io.vwrite(str(e) + '.mp4', self.to_draw)\n",
        "\n",
        "    def get_frame(self,t):\n",
        "        b = np.zeros((self.grid_size,self.grid_size,3))+128\n",
        "        b[self.board>0,0] = 256\n",
        "        b[self.board < 0, 2] = 256\n",
        "        b[self.x,self.y,:]=256\n",
        "        b[-2:,:,:]=0\n",
        "        b[:,-2:,:]=0\n",
        "        b[:2,:,:]=0\n",
        "        b[:,:2,:]=0\n",
        "        \n",
        "        b =  cv2.resize(b, None, fx=self.scale, fy=self.scale, interpolation=cv2.INTER_NEAREST)\n",
        "\n",
        "        self.to_draw[t,:,:,:]=b\n",
        "\n",
        "\n",
        "    def act(self, action):\n",
        "        \"\"\"This function returns the new state, reward and decides if the\n",
        "        game ends.\"\"\"\n",
        "\n",
        "        self.get_frame(int(self.t))\n",
        "\n",
        "        self.position = np.zeros((self.grid_size, self.grid_size))\n",
        "\n",
        "        self.position[0:2,:]= -1\n",
        "        self.position[:,0:2] = -1\n",
        "        self.position[-2:, :] = -1\n",
        "        #I changed the following line\n",
        "        self.position[:,-2:] = -1\n",
        "\n",
        "        self.position[self.x, self.y] = 1\n",
        "        if action == 0:\n",
        "            if self.x == self.grid_size-3:\n",
        "                self.x = self.x-1\n",
        "            else:\n",
        "                self.x = self.x + 1\n",
        "        elif action == 1:\n",
        "            if self.x == 2:\n",
        "                self.x = self.x+1\n",
        "            else:\n",
        "                self.x = self.x-1\n",
        "        elif action == 2:\n",
        "            if self.y == self.grid_size - 3:\n",
        "                self.y = self.y - 1\n",
        "            else:\n",
        "                self.y = self.y + 1\n",
        "        elif action == 3:\n",
        "            if self.y == 2:\n",
        "                self.y = self.y + 1\n",
        "            else:\n",
        "                self.y = self.y - 1\n",
        "        else:\n",
        "            RuntimeError('Error: action not recognized')\n",
        "\n",
        "        self.t = self.t + 1\n",
        "        reward = self.board[self.x, self.y]\n",
        "        self.board[self.x, self.y] = 0\n",
        "        game_over = self.t > self.max_time\n",
        "        state = np.concatenate((self.board.reshape(self.grid_size, self.grid_size,1),\n",
        "                        self.position.reshape(self.grid_size, self.grid_size,1)),axis=2)\n",
        "        state = state[self.x-2:self.x+3,self.y-2:self.y+3,:]\n",
        "\n",
        "        return state, reward, game_over\n",
        "\n",
        "    def reset(self):\n",
        "        \"\"\"This function resets the game and returns the initial state\"\"\"\n",
        "\n",
        "        self.x = np.random.randint(3, self.grid_size-3, size=1)[0]\n",
        "        self.y = np.random.randint(3, self.grid_size-3, size=1)[0]\n",
        "\n",
        "\n",
        "        bonus = 0.5*np.random.binomial(1,self.temperature,size=self.grid_size**2)\n",
        "        bonus = bonus.reshape(self.grid_size,self.grid_size)\n",
        "\n",
        "        malus = -1.0*np.random.binomial(1,self.temperature,size=self.grid_size**2)\n",
        "        malus = malus.reshape(self.grid_size, self.grid_size)\n",
        "\n",
        "        self.to_draw = np.zeros((self.max_time+2, self.grid_size*self.scale, self.grid_size*self.scale, 3))\n",
        "\n",
        "\n",
        "        malus[bonus>0]=0\n",
        "\n",
        "        self.board = bonus + malus\n",
        "\n",
        "        self.position = np.zeros((self.grid_size, self.grid_size))\n",
        "        self.position[0:2,:]= -1\n",
        "        self.position[:,0:2] = -1\n",
        "        self.position[-2:, :] = -1\n",
        "        #I changed the following line\n",
        "        self.position[:, -2:] = -1\n",
        "        self.board[self.x,self.y] = 0\n",
        "        self.t = 0\n",
        "\n",
        "        state = np.concatenate((\n",
        "                               self.board.reshape(self.grid_size, self.grid_size,1),\n",
        "                        self.position.reshape(self.grid_size, self.grid_size,1)),axis=2)\n",
        "\n",
        "        state = state[self.x - 2:self.x + 3, self.y - 2:self.y + 3, :]\n",
        "        return state"
      ],
      "execution_count": 0,
      "outputs": []
    },
    {
      "cell_type": "markdown",
      "metadata": {
        "id": "zNLRjq7cQBtz",
        "colab_type": "text"
      },
      "source": [
        "The following elements are important because they correspond to the hyper parameters for this project:"
      ]
    },
    {
      "cell_type": "code",
      "metadata": {
        "id": "X06hFKE8QBt5",
        "colab_type": "code",
        "colab": {}
      },
      "source": [
        "# parameters\n",
        "size = 13\n",
        "T=200\n",
        "temperature=0.3\n",
        "epochs_train=100 # set small when debugging\n",
        "epochs_test=10 # set small when debugging\n",
        "\n",
        "# display videos\n",
        "def display_videos(name):\n",
        "    video = io.open(name, 'r+b').read()\n",
        "    encoded = base64.b64encode(video)\n",
        "    return '''<video alt=\"test\" controls>\n",
        "                <source src=\"data:video/mp4;base64,{0}\" type=\"video/mp4\" />\n",
        "             </video>'''.format(encoded.decode('ascii'))"
      ],
      "execution_count": 0,
      "outputs": []
    },
    {
      "cell_type": "markdown",
      "metadata": {
        "id": "4NtVRf78QBuY",
        "colab_type": "text"
      },
      "source": [
        "__Question 2__ Explain the use of the arrays ```position``` and ```board```."
      ]
    },
    {
      "cell_type": "markdown",
      "metadata": {
        "id": "Er8Mpx2hQBul",
        "colab_type": "text"
      },
      "source": [
        "```position``` represents the mouse's position with -1 for the borders, 1 where is the mouse and 0 the rest.\n",
        "```board``` represents what the mouse can win."
      ]
    },
    {
      "cell_type": "markdown",
      "metadata": {
        "id": "05IBf0nuQBuq",
        "colab_type": "text"
      },
      "source": [
        "## Random Agent"
      ]
    },
    {
      "cell_type": "markdown",
      "metadata": {
        "id": "3h5SkHhVQBu1",
        "colab_type": "text"
      },
      "source": [
        "***\n",
        "__Question 3__ Implement a random Agent (only ```learned_act``` needs to be implemented):"
      ]
    },
    {
      "cell_type": "code",
      "metadata": {
        "id": "fgQFK5IlQBu8",
        "colab_type": "code",
        "colab": {}
      },
      "source": [
        "class RandomAgent(Agent):\n",
        "    def __init__(self):\n",
        "        super(RandomAgent, self).__init__()\n",
        "        pass\n",
        "\n",
        "    def learned_act(self, s):\n",
        "      return random.randint(0,3)"
      ],
      "execution_count": 0,
      "outputs": []
    },
    {
      "cell_type": "markdown",
      "metadata": {
        "id": "UMiQ7QySQBvV",
        "colab_type": "text"
      },
      "source": [
        "***\n",
        "__Question 4__ Visualize the game moves. You need to fill in the following function for the evaluation:"
      ]
    },
    {
      "cell_type": "code",
      "metadata": {
        "id": "faEDED3aQBvc",
        "colab_type": "code",
        "colab": {}
      },
      "source": [
        "def test(agent,env,epochs,prefix=''):\n",
        "    # Number of won games\n",
        "    score = 0\n",
        "        \n",
        "    for e in range(epochs):\n",
        "              \n",
        "      state = env.reset()\n",
        "      # This assumes that the games will end\n",
        "      game_over = False\n",
        "  \n",
        "      win = 0\n",
        "      lose = 0\n",
        "  \n",
        "      while not game_over:\n",
        "\n",
        "        # The agent performs an action\n",
        "        action = agent.act(state)\n",
        "  \n",
        "        # Apply an action to the environment, get the next state, the reward\n",
        "        # and if the games end\n",
        "        prev_state = state\n",
        "        state, reward, game_over = env.act(action)\n",
        "  \n",
        "        # Update the counters\n",
        "        if reward > 0:\n",
        "            win = win + reward\n",
        "        if reward < 0:\n",
        "            lose = lose -reward\n",
        "        \n",
        "      # Save as a mp4\n",
        "      env.draw(prefix+str(e))\n",
        "\n",
        "      # Update stats\n",
        "      score = score + win-lose\n",
        "\n",
        "      print(\"Win/lose count {}/{}. Average score ({})\"\n",
        "            .format(win, lose, score/(1+e)))\n",
        "    print('Final score: '+str(score/epochs))"
      ],
      "execution_count": 0,
      "outputs": []
    },
    {
      "cell_type": "code",
      "metadata": {
        "id": "pzzCLFIlQBv8",
        "colab_type": "code",
        "outputId": "e9200709-d458-4383-d7e2-feb84f3c901c",
        "colab": {
          "base_uri": "https://localhost:8080/",
          "height": 488
        }
      },
      "source": [
        "# Initialize the game\n",
        "env = Environment(grid_size=size, max_time=T,temperature=temperature)\n",
        "\n",
        "# Initialize the agent!\n",
        "agent = RandomAgent()\n",
        "\n",
        "test(agent,env,epochs_test,prefix='random')\n",
        "HTML(display_videos('random0.mp4'))"
      ],
      "execution_count": 0,
      "outputs": [
        {
          "output_type": "stream",
          "text": [
            "Win/lose count 8.0/8.0. Average score (0.0)\n",
            "Win/lose count 11.0/18.0. Average score (-3.5)\n",
            "Win/lose count 12.5/10.0. Average score (-1.5)\n",
            "Win/lose count 3.5/11.0. Average score (-3.0)\n",
            "Win/lose count 7.0/6.0. Average score (-2.2)\n",
            "Win/lose count 12.0/11.0. Average score (-1.6666666666666667)\n",
            "Win/lose count 5.0/16.0. Average score (-3.0)\n",
            "Win/lose count 11.0/18.0. Average score (-3.5)\n",
            "Win/lose count 9.5/20.0. Average score (-4.277777777777778)\n",
            "Win/lose count 11.5/12.0. Average score (-3.9)\n",
            "Final score: -3.9\n"
          ],
          "name": "stdout"
        },
        {
          "output_type": "execute_result",
          "data": {
            "text/html": [
              "<video alt=\"test\" controls>\n",
              "                <source src=\"data:video/mp4;base64,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\" type=\"video/mp4\" />\n",
              "             </video>"
            ],
            "text/plain": [
              "<IPython.core.display.HTML object>"
            ]
          },
          "metadata": {
            "tags": []
          },
          "execution_count": 10
        }
      ]
    },
    {
      "cell_type": "markdown",
      "metadata": {
        "id": "M4fUDrDQQBwY",
        "colab_type": "text"
      },
      "source": [
        "***\n",
        "## DQN"
      ]
    },
    {
      "cell_type": "markdown",
      "metadata": {
        "id": "EmaLExmsQBwq",
        "colab_type": "text"
      },
      "source": [
        "Let us assume here that $T=\\infty$.\n",
        "\n",
        "***\n",
        "__Question 5__ Let $\\pi$ be a policy, by definition\n",
        "\n",
        "$Q^{\\pi}(s,a)= E_{p^{\\pi}}[\\sum_{t\\leq T}\\gamma^{t}r(s_{t},a_{t})|s_{0}=s,a_{0}=a] \\>$\n",
        "\n",
        "Then,\n",
        "\n",
        "$Q^{\\pi}(s,a)= E_{p^{\\pi}}[\\sum_{1\\leq t \\leq T}\\gamma^{t}r(s_{t},a_{t})|s_{0}=s,a_{0}=a] + r(s, a)$\n",
        "\n",
        "Since $\\gamma^{t} r(s_{t},a_{t})$ admits a first moment in $s_{0}=s,a_{0}=a$ space, we can write :\n",
        "\n",
        "$ E_{p^{\\pi}}[\\sum_{1\\leq t \\leq T}\\gamma^{t}r(s_{t},a_{t})|s_{0}=s,a_{0}=a] = \\gamma E_{(s',a')\\sim p(.|s,a)}[\\sum_{t \\leq T}\\gamma^{t}r(s_{t},a_{t})|s_{0}=s',a_{0}=a']$\n",
        "\n",
        "Thus,\n",
        "\n",
        "\\begin{equation*}\n",
        "Q^{\\pi}(s,a)=E_{(s',a')\\sim p(.|s,a)}[r(s,a)+\\gamma Q^{\\pi}(s',a')]\n",
        "\\end{equation*}\n",
        "\n",
        "Let's assume there is an optimal policy $\\pi^*$. By definition:\n",
        "\n",
        "$Q^{*}(s,a)=\\max_{\\pi}Q^\\pi(s,a) = Q^{\\pi^*}(s,a)$\n",
        "\n",
        "Then\n",
        "\n",
        "$Q^{*}(s,a) = \\max_{\\pi} E_{(s',a')\\sim p(.|s,a)}[r(s,a)+\\gamma Q^{\\pi}(s',a')]$\n",
        "\n",
        "And\n",
        "\n",
        "$Q^{*}(s,a) = E_{(s',a')\\sim p(.|s,a)}[r(s,a)+\\gamma \\max_{\\pi}Q^{\\pi}(s',a')]$\n",
        "\n",
        "Since $\\pi^*$ is a deterministic policy, $\\pi^*(a') = s'$ and we can write\n",
        "\n",
        "\\begin{equation*}\n",
        "Q^{*}(s,a)=E_{s'\\sim \\pi^*(.|s,a)}[r(s,a)+\\gamma\\max_{a'}Q^{*}(s',a')]\n",
        "\\end{equation*}\n",
        "\n",
        "Finally, let's suppose that\n",
        "\n",
        "\\begin{equation*}\n",
        "\\mathcal{L}(\\theta)=E_{s' \\sim \\pi^*(.|s,a)}\\Vert r+\\gamma\\max\\max_{a'}Q(s',a',\\theta)-Q(s,a,\\theta)\\Vert^{2}.\n",
        "\\end{equation*}\n",
        "\n",
        "which is a plausible objective because\n",
        "\n",
        "$\\mathcal{L}(\\theta)=Var_{s' \\sim \\pi^*(.|s,a)}\\Vert r+\\gamma\\max\\max_{a'}Q(s',a',\\theta)-Q(s,a,\\theta)\\Vert^{2} + (E_{s' \\sim \\pi^*(.|s,a)}\\Vert r+\\gamma\\max\\max_{a'}Q(s',a',\\theta)-Q(s,a,\\theta)\\Vert)^{2}$\n",
        "\n",
        "or according to the equation above\n",
        "\n",
        "$\\mathcal{L}(\\theta)=Var_{s' \\sim \\pi^*(.|s,a)}\\Vert Q^*(s,a,\\theta)-Q(s,a,\\theta))\\Vert^{2} + (E_{s' \\sim \\pi^*(.|s,a)}\\Vert Q^*(s,a,\\theta)-Q(s,a,\\theta)\\Vert)^{2}$\n",
        "\n",
        "i.e\n",
        "\n",
        "$\\mathcal{L}(\\theta)=Var_{s' \\sim \\pi^*(.|s,a)}\\Vert Q^*(s,a,\\theta)-Q(s,a,\\theta))\\Vert^{2} + (bias(Q(s,a,\\theta)))^{2}$\n",
        "\n",
        "This loss function tends to minimize the bias and volatility between empirical and optimal policy.\n"
      ]
    },
    {
      "cell_type": "markdown",
      "metadata": {
        "id": "8OauNhfUQBw7",
        "colab_type": "text"
      },
      "source": [
        "***\n",
        "The DQN-learning algorithm relies on these derivations to train the parameters $\\theta$ of a Deep Neural Network:\n",
        "\n",
        "1. At the state $s_t$, select the action $a_t$ with best reward using $Q_t$ and store the results;\n",
        "\n",
        "2. Obtain the new state $s_{t+1}$ from the environment $p$;\n",
        "\n",
        "3. Store $(s_t,a_t,s_{t+1})$;\n",
        "\n",
        "4. Obtain $Q_{t+1}$ by minimizing  $\\mathcal{L}$ from a recovered batch from the previously stored results.\n",
        "\n",
        "***\n",
        "__Question 6__ Implement the class ```Memory``` that stores moves (in a replay buffer) via ```remember``` and provides a ```random_access``` to these. Specify a maximum memory size to avoid side effects. You can for example use a ```list()``` and set by default ```max_memory=100```."
      ]
    },
    {
      "cell_type": "code",
      "metadata": {
        "id": "8QH62t3CQBxD",
        "colab_type": "code",
        "colab": {}
      },
      "source": [
        "class Memory(object):\n",
        "    def __init__(self, max_memory=100):\n",
        "        self.max_memory = max_memory\n",
        "        self.memory = list()\n",
        "\n",
        "    def remember(self, m):\n",
        "      #we check if there is enough memory\n",
        "      if len(self.memory) < self.max_memory:\n",
        "        self.memory.append(m)\n",
        "      #if the memory is full, we add m at the beginning (like a stack)\n",
        "      else:\n",
        "        self.memory = [m] +  self.memory[1:]\n",
        "\n",
        "    def random_access(self):\n",
        "        return self.memory[random.randint(0,len(self.memory)-1)]"
      ],
      "execution_count": 0,
      "outputs": []
    },
    {
      "cell_type": "markdown",
      "metadata": {
        "id": "xCr1An11QBxc",
        "colab_type": "text"
      },
      "source": [
        "***\n",
        "The pipeline we will use for training is given below:"
      ]
    },
    {
      "cell_type": "code",
      "metadata": {
        "id": "Ogq0QrA4QBxp",
        "colab_type": "code",
        "colab": {}
      },
      "source": [
        "def train(agent,env,epoch,prefix=''):\n",
        "    # Number of won games\n",
        "    score = 0\n",
        "    loss = 0\n",
        "\n",
        "    for e in range(epoch):\n",
        "        # At each epoch, we restart to a fresh game and get the initial state\n",
        "        state = env.reset()\n",
        "        # This assumes that the games will terminate\n",
        "        game_over = False\n",
        "\n",
        "        win = 0\n",
        "        lose = 0\n",
        "\n",
        "        while not game_over:\n",
        "            # The agent performs an action\n",
        "            action = agent.act(state, train=True)\n",
        "\n",
        "            # Apply an action to the environment, get the next state, the reward\n",
        "            # and if the games end\n",
        "            prev_state = state\n",
        "            state, reward, game_over = env.act(action)\n",
        "\n",
        "            # Update the counters\n",
        "            if reward > 0:\n",
        "                win = win + reward\n",
        "            if reward < 0:\n",
        "                lose = lose -reward\n",
        "\n",
        "            # Apply the reinforcement strategy\n",
        "            loss = agent.reinforce(prev_state, state,  action, reward, game_over)\n",
        "\n",
        "        # Save as a mp4\n",
        "        if e % 10 == 0:\n",
        "            env.draw(prefix+str(e))\n",
        "\n",
        "        # Update stats\n",
        "        score += win-lose\n",
        "\n",
        "        print(\"Epoch {:03d}/{:03d} | Loss {:.4f} | Win/lose count {}/{} ({})\"\n",
        "              .format(e, epoch, loss, win, lose, win-lose))\n",
        "        agent.save(name_weights=prefix+'model.h5',name_model=prefix+'model.json')"
      ],
      "execution_count": 0,
      "outputs": []
    },
    {
      "cell_type": "markdown",
      "metadata": {
        "id": "BQZo6jC6QByK",
        "colab_type": "text"
      },
      "source": [
        "***\n",
        "__Question 7__ Implement the DQN training algorithm using a cascade of fully connected layers. You can use different learning rate, batch size or memory size parameters. In particular, the loss might oscillate while the player will start to win the games. You have to find a good criterium."
      ]
    },
    {
      "cell_type": "code",
      "metadata": {
        "id": "fxexl7nWQByS",
        "colab_type": "code",
        "colab": {}
      },
      "source": [
        "class DQN(Agent):\n",
        "    def __init__(self, grid_size,  epsilon = 0.1, memory_size=100, batch_size = 16,n_state=2):\n",
        "        super(DQN, self).__init__(epsilon = epsilon)\n",
        "\n",
        "        # Discount for Q learning\n",
        "        self.discount = 0.8\n",
        "        \n",
        "        self.grid_size = grid_size\n",
        "        \n",
        "        # number of state\n",
        "        self.n_state = n_state\n",
        "\n",
        "        # Memory\n",
        "        self.memory = Memory(memory_size)\n",
        "        \n",
        "        # Batch size when learning\n",
        "        self.batch_size = batch_size\n",
        "\n",
        "    def learned_act(self, s):\n",
        "        return np.argmax(self.model.predict(np.expand_dims(s,0))[0])\n",
        "\n",
        "    def reinforce(self, s_, n_s_, a_, r_, game_over_):\n",
        "        # Two steps: first memorize the states, second learn from the pool\n",
        "        self.memory.remember([s_, n_s_, a_, r_, game_over_])\n",
        "        \n",
        "        input_states = np.zeros((self.batch_size, 5,5,self.n_state))\n",
        "        target_q = np.zeros((self.batch_size, 4))\n",
        "\n",
        "        for i in range(self.batch_size):\n",
        "          \n",
        "          #we get a previous memory\n",
        "          s, ns, a, r, game_over = self.memory.random_access()\n",
        "          \n",
        "          #we stock the old state to train the model\n",
        "          input_states[i] = s\n",
        "          \n",
        "          if game_over_:\n",
        "              #we predict the reward after the new state\n",
        "              target = self.model.predict(np.expand_dims(ns,0))\n",
        "              #if it lead to game over we do not actualize for this action\n",
        "              target[0][a] = r\n",
        "          else:\n",
        "              target = self.model.predict(np.expand_dims(ns,0))\n",
        "              #we follow the same idea as in Q5\n",
        "              target[0][a] = r + self.discount*max(target[0])\n",
        "          \n",
        "          #we stock the actualized reward\n",
        "          target_q[i]  = target[0]\n",
        "        \n",
        "        # HINT: Clip the target to avoid exploiding gradients.. -- clipping is a bit tighter\n",
        "        target_q = np.clip(target_q, -3, 3)\n",
        "        \n",
        "        #we train the lodel by batch\n",
        "        l = self.model.train_on_batch(input_states, target_q)\n",
        "        return l\n",
        "\n",
        "    def save(self,name_weights='model.h5',name_model='model.json'):\n",
        "        self.model.save_weights(name_weights, overwrite=True)\n",
        "        with open(name_model, \"w\") as outfile:\n",
        "            json.dump(self.model.to_json(), outfile)\n",
        "            \n",
        "    def load(self,name_weights='model.h5',name_model='model.json'):\n",
        "        with open(name_model, \"r\") as jfile:\n",
        "            model = model_from_json(json.load(jfile))\n",
        "        model.load_weights(name_weights)\n",
        "        model.compile(\"sgd\", \"mse\")\n",
        "        self.model = model\n",
        "\n",
        "            \n",
        "class DQN_FC(DQN):\n",
        "    def __init__(self, *args, lr=0.1,**kwargs):\n",
        "        super(DQN_FC, self).__init__( *args,**kwargs)\n",
        "        \n",
        "        # NN Model with 5 layers\n",
        "        model = Sequential([\n",
        "            Dense(4,  input_shape=(5,5,self.n_state)),\n",
        "            Activation('relu'),\n",
        "            Dense(4),\n",
        "            Activation('relu'),\n",
        "            Dense(4),\n",
        "            Activation('relu'),\n",
        "            Dense(4),\n",
        "            Activation('relu'),\n",
        "            keras.layers.Flatten(),\n",
        "            Dense(4),\n",
        "            Activation('linear'),\n",
        "        ])\n",
        "        \n",
        "        #model.compile(sgd(lr=lr, decay=1e-4, momentum=0.0), \"mse\")\n",
        "        model.compile(keras.optimizers.RMSprop(lr=lr), \"mse\")\n",
        "        self.model = model"
      ],
      "execution_count": 0,
      "outputs": []
    },
    {
      "cell_type": "code",
      "metadata": {
        "id": "baIWO9TKmOU7",
        "colab_type": "code",
        "outputId": "d94a4ed8-7b08-489c-f43f-2a78203896df",
        "colab": {
          "base_uri": "https://localhost:8080/",
          "height": 1000
        }
      },
      "source": [
        "env = Environment(grid_size=size, max_time=T, temperature=0.3)\n",
        "agent = DQN_FC(size, lr=0.001, epsilon = 0.1, memory_size=2000, batch_size = 50)\n",
        "train(agent, env, 50, prefix='fc_train')\n",
        "HTML(display_videos('fc_train10.mp4'))"
      ],
      "execution_count": 30,
      "outputs": [
        {
          "output_type": "stream",
          "text": [
            "Epoch 000/050 | Loss 0.0117 | Win/lose count 7.0/10.0 (-3.0)\n",
            "Epoch 001/050 | Loss 0.0154 | Win/lose count 2.0/4.0 (-2.0)\n",
            "Epoch 002/050 | Loss 0.0149 | Win/lose count 9.0/6.0 (3.0)\n",
            "Epoch 003/050 | Loss 0.0203 | Win/lose count 2.0/3.0 (-1.0)\n",
            "Epoch 004/050 | Loss 0.0217 | Win/lose count 11.5/4.0 (7.5)\n",
            "Epoch 005/050 | Loss 0.0194 | Win/lose count 4.5/1.0 (3.5)\n",
            "Epoch 006/050 | Loss 0.0325 | Win/lose count 10.5/6.0 (4.5)\n",
            "Epoch 007/050 | Loss 0.0355 | Win/lose count 12.5/4.0 (8.5)\n",
            "Epoch 008/050 | Loss 0.0505 | Win/lose count 5.5/2.0 (3.5)\n",
            "Epoch 009/050 | Loss 0.0170 | Win/lose count 11.5/6.0 (5.5)\n",
            "Epoch 010/050 | Loss 0.0470 | Win/lose count 7.5/6.0 (1.5)\n",
            "Epoch 011/050 | Loss 0.0289 | Win/lose count 14.5/3.0 (11.5)\n",
            "Epoch 012/050 | Loss 0.0545 | Win/lose count 14.5/3.0 (11.5)\n",
            "Epoch 013/050 | Loss 0.0412 | Win/lose count 13.5/5.0 (8.5)\n",
            "Epoch 014/050 | Loss 0.0319 | Win/lose count 11.0/4.0 (7.0)\n",
            "Epoch 015/050 | Loss 0.0182 | Win/lose count 12.0/3.0 (9.0)\n",
            "Epoch 016/050 | Loss 0.0165 | Win/lose count 14.0/5.0 (9.0)\n",
            "Epoch 017/050 | Loss 0.0498 | Win/lose count 15.5/4.0 (11.5)\n",
            "Epoch 018/050 | Loss 0.0463 | Win/lose count 22.0/7.0 (15.0)\n",
            "Epoch 019/050 | Loss 0.0375 | Win/lose count 11.5/6.0 (5.5)\n",
            "Epoch 020/050 | Loss 0.0357 | Win/lose count 18.0/6.0 (12.0)\n",
            "Epoch 021/050 | Loss 0.0313 | Win/lose count 14.0/8.0 (6.0)\n",
            "Epoch 022/050 | Loss 0.0507 | Win/lose count 11.5/10.0 (1.5)\n",
            "Epoch 023/050 | Loss 0.0325 | Win/lose count 15.0/4.0 (11.0)\n",
            "Epoch 024/050 | Loss 0.0523 | Win/lose count 14.5/7.0 (7.5)\n",
            "Epoch 025/050 | Loss 0.0328 | Win/lose count 20.5/9.0 (11.5)\n",
            "Epoch 026/050 | Loss 0.0445 | Win/lose count 18.0/4.0 (14.0)\n",
            "Epoch 027/050 | Loss 0.0443 | Win/lose count 28.0/8.0 (20.0)\n",
            "Epoch 028/050 | Loss 0.0481 | Win/lose count 21.0/8.0 (13.0)\n",
            "Epoch 029/050 | Loss 0.0352 | Win/lose count 12.5/6.0 (6.5)\n",
            "Epoch 030/050 | Loss 0.0198 | Win/lose count 12.5/3.0 (9.5)\n",
            "Epoch 031/050 | Loss 0.0243 | Win/lose count 18.5/12.0 (6.5)\n",
            "Epoch 032/050 | Loss 0.0327 | Win/lose count 16.5/3.0 (13.5)\n",
            "Epoch 033/050 | Loss 0.0202 | Win/lose count 16.5/9.0 (7.5)\n",
            "Epoch 034/050 | Loss 0.0352 | Win/lose count 14.5/7.0 (7.5)\n",
            "Epoch 035/050 | Loss 0.0326 | Win/lose count 13.0/6.0 (7.0)\n",
            "Epoch 036/050 | Loss 0.0425 | Win/lose count 5.5/2.0 (3.5)\n",
            "Epoch 037/050 | Loss 0.0188 | Win/lose count 17.5/2.0 (15.5)\n",
            "Epoch 038/050 | Loss 0.0235 | Win/lose count 16.5/9.0 (7.5)\n",
            "Epoch 039/050 | Loss 0.0196 | Win/lose count 19.0/8.0 (11.0)\n",
            "Epoch 040/050 | Loss 0.0239 | Win/lose count 9.5/5.0 (4.5)\n",
            "Epoch 041/050 | Loss 0.0275 | Win/lose count 19.0/9.0 (10.0)\n",
            "Epoch 042/050 | Loss 0.0123 | Win/lose count 14.5/7.0 (7.5)\n",
            "Epoch 043/050 | Loss 0.0432 | Win/lose count 20.5/11.0 (9.5)\n",
            "Epoch 044/050 | Loss 0.0238 | Win/lose count 17.5/6.0 (11.5)\n",
            "Epoch 045/050 | Loss 0.0147 | Win/lose count 15.5/5.0 (10.5)\n",
            "Epoch 046/050 | Loss 0.0509 | Win/lose count 26.0/3.0 (23.0)\n",
            "Epoch 047/050 | Loss 0.0261 | Win/lose count 22.5/5.0 (17.5)\n",
            "Epoch 048/050 | Loss 0.0397 | Win/lose count 14.0/7.0 (7.0)\n",
            "Epoch 049/050 | Loss 0.0350 | Win/lose count 14.0/3.0 (11.0)\n"
          ],
          "name": "stdout"
        },
        {
          "output_type": "execute_result",
          "data": {
            "text/html": [
              "<video alt=\"test\" controls>\n",
              "                <source src=\"data:video/mp4;base64,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\" type=\"video/mp4\" />\n",
              "             </video>"
            ],
            "text/plain": [
              "<IPython.core.display.HTML object>"
            ]
          },
          "metadata": {
            "tags": []
          },
          "execution_count": 30
        }
      ]
    },
    {
      "cell_type": "markdown",
      "metadata": {
        "id": "wrXTrPUGQBzE",
        "colab_type": "text"
      },
      "source": [
        "***\n",
        "***\n",
        "__Question 8__ Implement the DQN training algorithm using a CNN (for example, 2 convolutional layers and one final fully connected layer)."
      ]
    },
    {
      "cell_type": "code",
      "metadata": {
        "id": "iRsNjVMSQBzR",
        "colab_type": "code",
        "colab": {}
      },
      "source": [
        "class DQN_CNN(DQN):\n",
        "    def __init__(self, *args,lr=0.1,**kwargs):\n",
        "        super(DQN_CNN, self).__init__(*args,**kwargs)\n",
        "        \n",
        "        model = Sequential([\n",
        "            \n",
        "            Conv2D(32, kernel_size=(2,2), padding=\"same\"),\n",
        "            Activation('relu'),\n",
        "            Conv2D(32, kernel_size=(2,2), padding=\"same\"),\n",
        "            Activation('relu'),\n",
        "            Conv2D(16, kernel_size=(2,2)),\n",
        "            Activation('relu'),\n",
        "            keras.layers.Flatten(),\n",
        "            Dense(4),\n",
        "            Activation('softmax')\n",
        "        ])\n",
        "        \n",
        "        model.compile(keras.optimizers.RMSprop(lr=lr), \"mse\")\n",
        "        self.model = model"
      ],
      "execution_count": 0,
      "outputs": []
    },
    {
      "cell_type": "code",
      "metadata": {
        "id": "Et84_-KcQBzz",
        "colab_type": "code",
        "outputId": "a3bc2995-0e85-4bdd-bdfe-02c5c92a3340",
        "colab": {
          "base_uri": "https://localhost:8080/",
          "height": 1000
        }
      },
      "source": [
        "env = Environment(grid_size=size, max_time=T, temperature=0.3)\n",
        "agent = DQN_CNN(size, lr=0.001, epsilon = 0.2, memory_size=2000, batch_size = 50)\n",
        "train(agent,env,50,prefix='cnn_train')\n",
        "HTML(display_videos('cnn_train10.mp4'))"
      ],
      "execution_count": 26,
      "outputs": [
        {
          "output_type": "stream",
          "text": [
            "Epoch 000/050 | Loss 0.0277 | Win/lose count 2.0/8.0 (-6.0)\n",
            "Epoch 001/050 | Loss 0.0313 | Win/lose count 6.5/2.0 (4.5)\n",
            "Epoch 002/050 | Loss 0.0173 | Win/lose count 5.5/4.0 (1.5)\n",
            "Epoch 003/050 | Loss 0.0182 | Win/lose count 17.0/6.0 (11.0)\n",
            "Epoch 004/050 | Loss 0.0320 | Win/lose count 15.5/5.0 (10.5)\n",
            "Epoch 005/050 | Loss 0.0219 | Win/lose count 19.0/6.0 (13.0)\n",
            "Epoch 006/050 | Loss 0.0269 | Win/lose count 20.5/4.0 (16.5)\n",
            "Epoch 007/050 | Loss 0.0462 | Win/lose count 19.0/5.0 (14.0)\n",
            "Epoch 008/050 | Loss 0.0395 | Win/lose count 23.5/4.0 (19.5)\n",
            "Epoch 009/050 | Loss 0.0287 | Win/lose count 22.0/16.0 (6.0)\n",
            "Epoch 010/050 | Loss 0.0294 | Win/lose count 22.0/11.0 (11.0)\n",
            "Epoch 011/050 | Loss 0.0369 | Win/lose count 8.0/4.0 (4.0)\n",
            "Epoch 012/050 | Loss 0.0347 | Win/lose count 25.5/11.0 (14.5)\n",
            "Epoch 013/050 | Loss 0.0361 | Win/lose count 25.0/17.0 (8.0)\n",
            "Epoch 014/050 | Loss 0.0319 | Win/lose count 16.5/9.0 (7.5)\n",
            "Epoch 015/050 | Loss 0.0369 | Win/lose count 16.0/7.0 (9.0)\n",
            "Epoch 016/050 | Loss 0.0324 | Win/lose count 25.5/10.0 (15.5)\n",
            "Epoch 017/050 | Loss 0.0354 | Win/lose count 16.5/16.0 (0.5)\n",
            "Epoch 018/050 | Loss 0.0336 | Win/lose count 22.0/12.0 (10.0)\n",
            "Epoch 019/050 | Loss 0.0295 | Win/lose count 17.5/8.0 (9.5)\n",
            "Epoch 020/050 | Loss 0.0295 | Win/lose count 11.5/10.0 (1.5)\n",
            "Epoch 021/050 | Loss 0.0341 | Win/lose count 16.0/7.0 (9.0)\n",
            "Epoch 022/050 | Loss 0.0435 | Win/lose count 18.0/8.0 (10.0)\n",
            "Epoch 023/050 | Loss 0.0436 | Win/lose count 15.5/8.0 (7.5)\n",
            "Epoch 024/050 | Loss 0.0529 | Win/lose count 15.5/8.0 (7.5)\n",
            "Epoch 025/050 | Loss 0.0383 | Win/lose count 26.0/11.0 (15.0)\n",
            "Epoch 026/050 | Loss 0.0365 | Win/lose count 17.5/9.0 (8.5)\n",
            "Epoch 027/050 | Loss 0.0496 | Win/lose count 19.5/17.0 (2.5)\n",
            "Epoch 028/050 | Loss 0.0457 | Win/lose count 16.0/11.0 (5.0)\n",
            "Epoch 029/050 | Loss 0.0388 | Win/lose count 19.5/20.0 (-0.5)\n",
            "Epoch 030/050 | Loss 0.0451 | Win/lose count 17.0/8.0 (9.0)\n",
            "Epoch 031/050 | Loss 0.0320 | Win/lose count 24.0/11.0 (13.0)\n",
            "Epoch 032/050 | Loss 0.0305 | Win/lose count 17.0/8.0 (9.0)\n",
            "Epoch 033/050 | Loss 0.0355 | Win/lose count 10.5/7.0 (3.5)\n",
            "Epoch 034/050 | Loss 0.0261 | Win/lose count 21.5/10.0 (11.5)\n",
            "Epoch 035/050 | Loss 0.0298 | Win/lose count 15.0/12.0 (3.0)\n",
            "Epoch 036/050 | Loss 0.0392 | Win/lose count 11.0/9.0 (2.0)\n",
            "Epoch 037/050 | Loss 0.0255 | Win/lose count 23.0/11.0 (12.0)\n",
            "Epoch 038/050 | Loss 0.0388 | Win/lose count 15.0/9.0 (6.0)\n",
            "Epoch 039/050 | Loss 0.0396 | Win/lose count 23.5/14.0 (9.5)\n",
            "Epoch 040/050 | Loss 0.0357 | Win/lose count 15.0/6.0 (9.0)\n",
            "Epoch 041/050 | Loss 0.0376 | Win/lose count 12.5/9.0 (3.5)\n",
            "Epoch 042/050 | Loss 0.0367 | Win/lose count 30.0/14.0 (16.0)\n",
            "Epoch 043/050 | Loss 0.0284 | Win/lose count 20.5/6.0 (14.5)\n",
            "Epoch 044/050 | Loss 0.0424 | Win/lose count 21.0/21.0 (0.0)\n",
            "Epoch 045/050 | Loss 0.0343 | Win/lose count 18.0/11.0 (7.0)\n",
            "Epoch 046/050 | Loss 0.0355 | Win/lose count 9.5/7.0 (2.5)\n",
            "Epoch 047/050 | Loss 0.0299 | Win/lose count 22.5/9.0 (13.5)\n",
            "Epoch 048/050 | Loss 0.0381 | Win/lose count 19.0/13.0 (6.0)\n",
            "Epoch 049/050 | Loss 0.0349 | Win/lose count 25.0/16.0 (9.0)\n"
          ],
          "name": "stdout"
        },
        {
          "output_type": "execute_result",
          "data": {
            "text/html": [
              "<video alt=\"test\" controls>\n",
              "                <source src=\"data:video/mp4;base64,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\" type=\"video/mp4\" />\n",
              "             </video>"
            ],
            "text/plain": [
              "<IPython.core.display.HTML object>"
            ]
          },
          "metadata": {
            "tags": []
          },
          "execution_count": 26
        }
      ]
    },
    {
      "cell_type": "markdown",
      "metadata": {
        "id": "Kv5ciULnQB0F",
        "colab_type": "text"
      },
      "source": [
        "***\n",
        "***\n",
        "__Question 9__ Test both algorithms and compare their performances. Which issue(s) do you observe? Observe also different behaviors by changing the temperature."
      ]
    },
    {
      "cell_type": "code",
      "metadata": {
        "id": "GWYRXahcQB0K",
        "colab_type": "code",
        "outputId": "117152d6-3b63-461c-8f8d-26583c8d0b44",
        "colab": {
          "base_uri": "https://localhost:8080/",
          "height": 443
        }
      },
      "source": [
        "env = Environment(grid_size=size, max_time=T,temperature=0.3)\n",
        "agent_cnn = DQN_CNN(size, lr=0.001, epsilon = 0.2, memory_size=2000, batch_size = 50)\n",
        "agent_cnn.load(name_weights='cnn_trainmodel.h5',name_model='cnn_trainmodel.json')\n",
        "\n",
        "agent_fc = DQN_FC(size, lr=0.001, epsilon = 0.1, memory_size=2000, batch_size = 50)\n",
        "agent_fc.load(name_weights='fc_trainmodel.h5',name_model='fc_trainmodel.json')\n",
        "print('Test of the CNN')\n",
        "test(agent_cnn,env,epochs_test,prefix='cnn_test')\n",
        "print('Test of the FC')\n",
        "test(agent_fc,env,epochs_test,prefix='fc_test')"
      ],
      "execution_count": 32,
      "outputs": [
        {
          "output_type": "stream",
          "text": [
            "Test of the CNN\n",
            "Win/lose count 18.0/9.0. Average score (9.0)\n",
            "Win/lose count 18.5/12.0. Average score (7.75)\n",
            "Win/lose count 23.5/17.0. Average score (7.333333333333333)\n",
            "Win/lose count 12.5/8.0. Average score (6.625)\n",
            "Win/lose count 21.0/11.0. Average score (7.3)\n",
            "Win/lose count 16.0/12.0. Average score (6.75)\n",
            "Win/lose count 22.5/12.0. Average score (7.285714285714286)\n",
            "Win/lose count 20.5/11.0. Average score (7.5625)\n",
            "Win/lose count 19.0/7.0. Average score (8.055555555555555)\n",
            "Win/lose count 24.5/11.0. Average score (8.6)\n",
            "Final score: 8.6\n",
            "Test of the FC\n",
            "Win/lose count 6.5/1.0. Average score (5.5)\n",
            "Win/lose count 2.5/1.0. Average score (3.5)\n",
            "Win/lose count 14.0/5.0. Average score (5.333333333333333)\n",
            "Win/lose count 4.5/5.0. Average score (3.875)\n",
            "Win/lose count 18.0/6.0. Average score (5.5)\n",
            "Win/lose count 9.0/5.0. Average score (5.25)\n",
            "Win/lose count 9.0/1.0. Average score (5.642857142857143)\n",
            "Win/lose count 15.5/4.0. Average score (6.375)\n",
            "Win/lose count 12.5/2.0. Average score (6.833333333333333)\n",
            "Win/lose count 14.0/10.0. Average score (6.55)\n",
            "Final score: 6.55\n"
          ],
          "name": "stdout"
        }
      ]
    },
    {
      "cell_type": "code",
      "metadata": {
        "id": "iBhkElK9QB0d",
        "colab_type": "code",
        "outputId": "bfec181d-30f9-429e-c1bf-40632efacaf5",
        "colab": {
          "base_uri": "https://localhost:8080/",
          "height": 293
        }
      },
      "source": [
        "HTML(display_videos('cnn_test9.mp4'))"
      ],
      "execution_count": 0,
      "outputs": [
        {
          "output_type": "execute_result",
          "data": {
            "text/html": [
              "<video alt=\"test\" controls>\n",
              "                <source src=\"data:video/mp4;base64,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\" type=\"video/mp4\" />\n",
              "             </video>"
            ],
            "text/plain": [
              "<IPython.core.display.HTML object>"
            ]
          },
          "metadata": {
            "tags": []
          },
          "execution_count": 59
        }
      ]
    },
    {
      "cell_type": "code",
      "metadata": {
        "id": "xr6Tip7oQB02",
        "colab_type": "code",
        "outputId": "179ef9fa-f95a-4a4e-83e8-6d18cc910248",
        "colab": {
          "base_uri": "https://localhost:8080/",
          "height": 293
        }
      },
      "source": [
        "HTML(display_videos('fc_test9.mp4'))"
      ],
      "execution_count": 0,
      "outputs": [
        {
          "output_type": "execute_result",
          "data": {
            "text/html": [
              "<video alt=\"test\" controls>\n",
              "                <source src=\"data:video/mp4;base64,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\" type=\"video/mp4\" />\n",
              "             </video>"
            ],
            "text/plain": [
              "<IPython.core.display.HTML object>"
            ]
          },
          "metadata": {
            "tags": []
          },
          "execution_count": 60
        }
      ]
    },
    {
      "cell_type": "markdown",
      "metadata": {
        "id": "QArJPNdWQB1W",
        "colab_type": "text"
      },
      "source": [
        ""
      ]
    },
    {
      "cell_type": "markdown",
      "metadata": {
        "id": "pHSPRuPZQB1b",
        "colab_type": "text"
      },
      "source": [
        "***\n",
        "\n",
        "The algorithm tends to not explore the map which can be an issue. We propose two ideas in order to encourage exploration:\n",
        "1. Incorporating a decreasing $\\epsilon$-greedy exploration. You can use the method ```set_epsilon```\n",
        "2. Append via the environment a new state that describes if a cell has been visited or not\n",
        "\n",
        "***\n",
        "__Question 10__ Design a new ```train_explore``` function and environment class ```EnvironmentExploring``` to tackle the issue of exploration.\n",
        "\n"
      ]
    },
    {
      "cell_type": "code",
      "metadata": {
        "id": "qH0OOd_UQB1g",
        "colab_type": "code",
        "colab": {}
      },
      "source": [
        "def train_explore(agent,env,epoch,prefix=''):\n",
        "    # Number of won games\n",
        "    score = 0\n",
        "    loss = 0\n",
        "    r = 0.9\n",
        "\n",
        "    for e in range(epoch):\n",
        "        # At each epoch, we restart to a fresh game and get the initial state\n",
        "        state = env.reset()\n",
        "\n",
        "        agent.reduce_epsilon(r)\n",
        "          \n",
        "        # This assumes that the games will terminate\n",
        "        game_over = False\n",
        "\n",
        "        win = 0\n",
        "        lose = 0\n",
        "        \n",
        "        while not game_over:\n",
        "            # The agent performs an action\n",
        "            action = agent.act(state, train=True)\n",
        "\n",
        "            # Apply an action to the environment, get the next state, the reward\n",
        "            # and if the games end\n",
        "            prev_state = state\n",
        "            state, reward, game_over = env.act(action, train=True)\n",
        "\n",
        "            # Update the counters\n",
        "            if reward > 0:\n",
        "                win = win + reward\n",
        "            if reward < 0:\n",
        "                lose = lose -reward\n",
        "            \n",
        "            # Apply the reinforcement strategy\n",
        "            loss = agent.reinforce(prev_state, state,  action, reward, game_over)\n",
        "\n",
        "        # Save as a mp4\n",
        "        if e % 10 == 0:\n",
        "            env.draw(prefix+str(e))\n",
        "\n",
        "        # Update stats\n",
        "        score += win-loss\n",
        "\n",
        "        print(\"Epoch {:03d}/{:03d} | Loss {:.4f} | Win/lose count {}/{} ({})\"\n",
        "              .format(e, epoch, loss, win, lose, win-lose))\n",
        "        agent.save(name_weights=prefix+'model.h5',name_model=prefix+'model.json')\n",
        "        \n",
        "class EnvironmentExploring(object):\n",
        "    def __init__(self, grid_size=10, max_time=500, temperature=0.1):\n",
        "        grid_size = grid_size+4\n",
        "        self.grid_size = grid_size\n",
        "        self.max_time = max_time\n",
        "        self.temperature = temperature\n",
        "\n",
        "        #board on which one plays\n",
        "        self.board = np.zeros((grid_size,grid_size))\n",
        "        self.position = np.zeros((grid_size,grid_size))\n",
        "\n",
        "        # coordinate of the cat\n",
        "        self.x = 0\n",
        "        self.y = 1\n",
        "\n",
        "        # self time\n",
        "        self.t = 0\n",
        "\n",
        "        self.scale=16\n",
        "\n",
        "        self.to_draw = np.zeros((max_time+2, grid_size*self.scale, grid_size*self.scale, 3))\n",
        "\n",
        "\n",
        "    def draw(self,e):\n",
        "        skvideo.io.vwrite(str(e) + '.mp4', self.to_draw)\n",
        "\n",
        "    def get_frame(self,t):\n",
        "        b = np.zeros((self.grid_size,self.grid_size,3))+128\n",
        "        b[self.board>0,0] = 256\n",
        "        b[self.board < 0, 2] = 256\n",
        "        b[self.x,self.y,:]=256\n",
        "        b[-2:,:,:]=0\n",
        "        b[:,-2:,:]=0\n",
        "        b[:2,:,:]=0\n",
        "        b[:,:2,:]=0\n",
        "        \n",
        "        b =  cv2.resize(b, None, fx=self.scale, fy=self.scale, interpolation=cv2.INTER_NEAREST)\n",
        "\n",
        "        self.to_draw[t,:,:,:]=b\n",
        "\n",
        "    def set_time(self, new_t):\n",
        "        self.t = new_t\n",
        "\n",
        "    def act(self, action, train=False):\n",
        "        \"\"\"This function returns the new state, reward and decides if the\n",
        "        game ends.\"\"\"\n",
        "\n",
        "        self.get_frame(int(self.t))\n",
        "\n",
        "        self.position = np.zeros((self.grid_size, self.grid_size))\n",
        "\n",
        "        self.position[0:2,:]= -1\n",
        "        self.position[:,0:2] = -1\n",
        "        self.position[-2:, :] = -1\n",
        "        #I changed the following line\n",
        "        self.position[:,-2:] = -1\n",
        "\n",
        "        self.position[self.x, self.y] = 1\n",
        "        if action == 0:\n",
        "            if self.x == self.grid_size-3:\n",
        "                self.x = self.x-1\n",
        "            else:\n",
        "                self.x = self.x + 1\n",
        "        elif action == 1:\n",
        "            if self.x == 2:\n",
        "                self.x = self.x+1\n",
        "            else:\n",
        "                self.x = self.x-1\n",
        "        elif action == 2:\n",
        "            if self.y == self.grid_size - 3:\n",
        "                self.y = self.y - 1\n",
        "            else:\n",
        "                self.y = self.y + 1\n",
        "        elif action == 3:\n",
        "            if self.y == 2:\n",
        "                self.y = self.y + 1\n",
        "            else:\n",
        "                self.y = self.y - 1\n",
        "        else:\n",
        "            RuntimeError('Error: action not recognized')\n",
        "\n",
        "        self.t = self.t + 1\n",
        "\n",
        "        # You will have to change n_state to 3 because you will use one more layer!\n",
        "        reward = 0\n",
        "        # we update a loss if we already visited\n",
        "        if train:\n",
        "            reward = -self.malus_position[self.x, self.y]\n",
        "        self.malus_position[self.x, self.y] = 0.1\n",
        "\n",
        "        reward = reward + self.board[self.x, self.y]\n",
        "\n",
        "        self.board[self.x, self.y] = 0\n",
        "        game_over = self.t > self.max_time\n",
        "\n",
        "        # 3 \"feature\" states instead of 2\n",
        "        state = np.concatenate((self.malus_position.reshape(self.grid_size, self.grid_size,1),\n",
        "                                        self.board.reshape(self.grid_size, self.grid_size,1),\n",
        "                                self.position.reshape(self.grid_size, self.grid_size,1)),axis=2)\n",
        "        \n",
        "        state = state[self.x-2:self.x+3,self.y-2:self.y+3,:]\n",
        "\n",
        "        return state, reward, game_over\n",
        "\n",
        "    def reset(self):\n",
        "        \"\"\"This function resets the game and returns the initial state\"\"\"\n",
        "\n",
        "        self.x = np.random.randint(3, self.grid_size-3, size=1)[0]\n",
        "        self.y = np.random.randint(3, self.grid_size-3, size=1)[0]\n",
        "\n",
        "\n",
        "        bonus = 0.5*np.random.binomial(1,self.temperature,size=self.grid_size**2)\n",
        "        bonus = bonus.reshape(self.grid_size,self.grid_size)\n",
        "\n",
        "        malus = -1.0*np.random.binomial(1,self.temperature,size=self.grid_size**2)\n",
        "        malus = malus.reshape(self.grid_size, self.grid_size)\n",
        "\n",
        "        self.to_draw = np.zeros((self.max_time+2, self.grid_size*self.scale, self.grid_size*self.scale, 3))\n",
        "\n",
        "\n",
        "        malus[bonus>0]=0\n",
        "\n",
        "        self.board = bonus + malus\n",
        "\n",
        "        self.position = np.zeros((self.grid_size, self.grid_size))\n",
        "        self.position[0:2,:]= -1\n",
        "        self.position[:,0:2] = -1\n",
        "        self.position[-2:, :] = -1\n",
        "        #I changed the following line\n",
        "        self.position[:, -2:] = -1\n",
        "        self.board[self.x,self.y] = 0\n",
        "        self.t = 0\n",
        "\n",
        "        self.malus_position = np.zeros((self.grid_size, self.grid_size))\n",
        "\n",
        "        # 3 \"feature\" states instead of 2\n",
        "        state = np.concatenate((self.malus_position.reshape(self.grid_size, self.grid_size,1),\n",
        "                                        self.board.reshape(self.grid_size, self.grid_size,1),\n",
        "                                self.position.reshape(self.grid_size, self.grid_size,1)),axis=2)\n",
        "\n",
        "        state = state[self.x - 2:self.x + 3, self.y - 2:self.y + 3, :]\n",
        "        return state"
      ],
      "execution_count": 0,
      "outputs": []
    },
    {
      "cell_type": "code",
      "metadata": {
        "id": "P-ollllvQB10",
        "colab_type": "code",
        "outputId": "7b3c8536-987d-41ad-bb60-0c4b309e676a",
        "colab": {
          "base_uri": "https://localhost:8080/",
          "height": 1000
        }
      },
      "source": [
        "# Training\n",
        "env = EnvironmentExploring(grid_size=size, max_time=T, temperature=0.3)\n",
        "agent = DQN_FC(size, lr=0.001, epsilon = 0.5, memory_size=2000, batch_size = 50, n_state=3)\n",
        "train_explore(agent, env, 50, prefix='fc_train_explore')\n",
        "HTML(display_videos('cnn_train_explore10.mp4'))"
      ],
      "execution_count": 41,
      "outputs": [
        {
          "output_type": "stream",
          "text": [
            "Epoch 000/050 | Loss 0.0308 | Win/lose count 11.0/29.600000000000097 (-18.600000000000097)\n",
            "Epoch 001/050 | Loss 0.0461 | Win/lose count 10.5/39.20000000000005 (-28.700000000000053)\n",
            "Epoch 002/050 | Loss 0.0358 | Win/lose count 8.0/21.600000000000037 (-13.600000000000037)\n",
            "Epoch 003/050 | Loss 0.0261 | Win/lose count 4.5/23.400000000000077 (-18.900000000000077)\n",
            "Epoch 004/050 | Loss 0.0250 | Win/lose count 5.0/19.90000000000002 (-14.90000000000002)\n",
            "Epoch 005/050 | Loss 0.0255 | Win/lose count 6.5/21.50000000000004 (-15.000000000000039)\n",
            "Epoch 006/050 | Loss 0.0177 | Win/lose count 13.0/21.20000000000002 (-8.20000000000002)\n",
            "Epoch 007/050 | Loss 0.0231 | Win/lose count 20.5/15.599999999999971 (4.900000000000029)\n",
            "Epoch 008/050 | Loss 0.0151 | Win/lose count 10.5/24.100000000000062 (-13.600000000000062)\n",
            "Epoch 009/050 | Loss 0.0292 | Win/lose count 21.5/19.50000000000003 (1.9999999999999716)\n",
            "Epoch 010/050 | Loss 0.0143 | Win/lose count 22.0/13.499999999999975 (8.500000000000025)\n",
            "Epoch 011/050 | Loss 0.0419 | Win/lose count 15.0/16.799999999999972 (-1.7999999999999723)\n",
            "Epoch 012/050 | Loss 0.0260 | Win/lose count 28.0/13.899999999999975 (14.100000000000025)\n",
            "Epoch 013/050 | Loss 0.0125 | Win/lose count 26.5/13.199999999999973 (13.300000000000027)\n",
            "Epoch 014/050 | Loss 0.0149 | Win/lose count 19.0/11.999999999999973 (7.000000000000027)\n",
            "Epoch 015/050 | Loss 0.0302 | Win/lose count 22.0/12.699999999999974 (9.300000000000026)\n",
            "Epoch 016/050 | Loss 0.0314 | Win/lose count 17.0/16.29999999999997 (0.7000000000000313)\n",
            "Epoch 017/050 | Loss 0.0175 | Win/lose count 19.0/13.499999999999968 (5.500000000000032)\n",
            "Epoch 018/050 | Loss 0.0180 | Win/lose count 19.5/15.399999999999963 (4.100000000000037)\n",
            "Epoch 019/050 | Loss 0.0223 | Win/lose count 23.5/14.499999999999968 (9.000000000000032)\n",
            "Epoch 020/050 | Loss 0.0242 | Win/lose count 25.5/12.299999999999976 (13.200000000000024)\n",
            "Epoch 021/050 | Loss 0.0196 | Win/lose count 20.5/15.199999999999973 (5.300000000000027)\n",
            "Epoch 022/050 | Loss 0.0283 | Win/lose count 22.0/18.200000000000006 (3.7999999999999936)\n",
            "Epoch 023/050 | Loss 0.0256 | Win/lose count 18.0/14.499999999999968 (3.500000000000032)\n",
            "Epoch 024/050 | Loss 0.0161 | Win/lose count 20.5/16.699999999999985 (3.800000000000015)\n",
            "Epoch 025/050 | Loss 0.0175 | Win/lose count 20.0/14.899999999999967 (5.100000000000033)\n",
            "Epoch 026/050 | Loss 0.0313 | Win/lose count 27.5/9.199999999999983 (18.30000000000002)\n",
            "Epoch 027/050 | Loss 0.0205 | Win/lose count 20.5/12.299999999999976 (8.200000000000024)\n",
            "Epoch 028/050 | Loss 0.0247 | Win/lose count 22.0/11.59999999999998 (10.40000000000002)\n",
            "Epoch 029/050 | Loss 0.0221 | Win/lose count 21.5/14.099999999999973 (7.400000000000027)\n",
            "Epoch 030/050 | Loss 0.0188 | Win/lose count 27.0/12.499999999999979 (14.500000000000021)\n",
            "Epoch 031/050 | Loss 0.0362 | Win/lose count 26.0/14.099999999999971 (11.900000000000029)\n",
            "Epoch 032/050 | Loss 0.0248 | Win/lose count 20.0/18.39999999999999 (1.6000000000000085)\n",
            "Epoch 033/050 | Loss 0.0147 | Win/lose count 21.5/11.899999999999977 (9.600000000000023)\n",
            "Epoch 034/050 | Loss 0.0236 | Win/lose count 21.5/12.69999999999997 (8.80000000000003)\n",
            "Epoch 035/050 | Loss 0.0272 | Win/lose count 17.0/14.799999999999976 (2.200000000000024)\n",
            "Epoch 036/050 | Loss 0.0258 | Win/lose count 25.0/10.099999999999984 (14.900000000000016)\n",
            "Epoch 037/050 | Loss 0.0191 | Win/lose count 24.0/11.999999999999975 (12.000000000000025)\n",
            "Epoch 038/050 | Loss 0.0235 | Win/lose count 20.0/17.09999999999998 (2.90000000000002)\n",
            "Epoch 039/050 | Loss 0.0189 | Win/lose count 16.5/15.599999999999968 (0.9000000000000323)\n",
            "Epoch 040/050 | Loss 0.0254 | Win/lose count 22.5/15.199999999999973 (7.300000000000027)\n",
            "Epoch 041/050 | Loss 0.0252 | Win/lose count 23.5/13.69999999999997 (9.80000000000003)\n",
            "Epoch 042/050 | Loss 0.0268 | Win/lose count 21.5/13.599999999999968 (7.900000000000032)\n",
            "Epoch 043/050 | Loss 0.0243 | Win/lose count 24.5/14.999999999999977 (9.500000000000023)\n",
            "Epoch 044/050 | Loss 0.0110 | Win/lose count 28.0/14.299999999999972 (13.700000000000028)\n",
            "Epoch 045/050 | Loss 0.0253 | Win/lose count 13.0/15.09999999999997 (-2.0999999999999694)\n",
            "Epoch 046/050 | Loss 0.0231 | Win/lose count 16.0/13.599999999999975 (2.4000000000000252)\n",
            "Epoch 047/050 | Loss 0.0155 | Win/lose count 24.5/13.499999999999975 (11.000000000000025)\n",
            "Epoch 048/050 | Loss 0.0449 | Win/lose count 22.0/15.099999999999964 (6.900000000000036)\n",
            "Epoch 049/050 | Loss 0.0296 | Win/lose count 19.5/13.79999999999997 (5.7000000000000295)\n"
          ],
          "name": "stdout"
        },
        {
          "output_type": "execute_result",
          "data": {
            "text/html": [
              "<video alt=\"test\" controls>\n",
              "                <source src=\"data:video/mp4;base64,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\" type=\"video/mp4\" />\n",
              "             </video>"
            ],
            "text/plain": [
              "<IPython.core.display.HTML object>"
            ]
          },
          "metadata": {
            "tags": []
          },
          "execution_count": 41
        }
      ]
    },
    {
      "cell_type": "code",
      "metadata": {
        "id": "5Nuc9mfLQB2I",
        "colab_type": "code",
        "outputId": "e664ef97-075d-43d9-c968-dd136f0fddc7",
        "colab": {
          "base_uri": "https://localhost:8080/",
          "height": 488
        }
      },
      "source": [
        "# Evaluation\n",
        "test(agent,env,epochs_test,prefix='fc_test_explore')\n",
        "HTML(display_videos('fc_test_explore9.mp4'))"
      ],
      "execution_count": 45,
      "outputs": [
        {
          "output_type": "stream",
          "text": [
            "Win/lose count 3.5/0. Average score (3.5)\n",
            "Win/lose count 14.0/1.0. Average score (8.25)\n",
            "Win/lose count 10.0/1.0. Average score (8.5)\n",
            "Win/lose count 8.5/0. Average score (8.5)\n",
            "Win/lose count 11.0/1.0. Average score (8.8)\n",
            "Win/lose count 16.0/1.0. Average score (9.833333333333334)\n",
            "Win/lose count 10.5/1.0. Average score (9.785714285714286)\n",
            "Win/lose count 10.0/0. Average score (9.8125)\n",
            "Win/lose count 12.5/2.0. Average score (9.88888888888889)\n",
            "Win/lose count 9.5/1.0. Average score (9.75)\n",
            "Final score: 9.75\n"
          ],
          "name": "stdout"
        },
        {
          "output_type": "execute_result",
          "data": {
            "text/html": [
              "<video alt=\"test\" controls>\n",
              "                <source src=\"data:video/mp4;base64,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\" type=\"video/mp4\" />\n",
              "             </video>"
            ],
            "text/plain": [
              "<IPython.core.display.HTML object>"
            ]
          },
          "metadata": {
            "tags": []
          },
          "execution_count": 45
        }
      ]
    },
    {
      "cell_type": "markdown",
      "metadata": {
        "id": "zVc2EoCYQB2Z",
        "colab_type": "text"
      },
      "source": [
        "***\n",
        "***\n",
        "__BONUS question__ Use the expert DQN from the previous question to generate some winning games. Train a model that mimicks its behavior. Compare the performances."
      ]
    },
    {
      "cell_type": "markdown",
      "metadata": {
        "id": "ctPaRWfeQB2e",
        "colab_type": "text"
      },
      "source": [
        ""
      ]
    },
    {
      "cell_type": "markdown",
      "metadata": {
        "id": "QMpT26oIQB2k",
        "colab_type": "text"
      },
      "source": [
        "***"
      ]
    }
  ]
}